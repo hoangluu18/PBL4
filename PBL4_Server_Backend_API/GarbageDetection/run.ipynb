{
 "cells": [
  {
   "cell_type": "code",
   "id": "initial_id",
   "metadata": {
    "collapsed": true,
    "ExecuteTime": {
     "end_time": "2024-09-15T14:50:33.293166Z",
     "start_time": "2024-09-15T14:50:30.215068Z"
    }
   },
   "source": [
    "import tensorflow as tf\n",
    "import numpy as np\n",
    "from tensorflow.keras.preprocessing import image\n",
    "from tensorflow.keras.models import load_model"
   ],
   "outputs": [],
   "execution_count": 1
  },
  {
   "metadata": {
    "ExecuteTime": {
     "end_time": "2024-09-15T14:50:45.842915Z",
     "start_time": "2024-09-15T14:50:45.839165Z"
    }
   },
   "cell_type": "code",
   "source": [
    "print(f\"TensorFlow version: {tf.__version__}\")\n",
    "print(f\"Keras version: {tf.keras.__version__}\")"
   ],
   "id": "5601f7ec92ef638a",
   "outputs": [
    {
     "name": "stdout",
     "output_type": "stream",
     "text": [
      "TensorFlow version: 2.17.0\n",
      "Keras version: 3.5.0\n"
     ]
    }
   ],
   "execution_count": 2
  },
  {
   "metadata": {
    "ExecuteTime": {
     "end_time": "2024-09-15T14:50:58.817872Z",
     "start_time": "2024-09-15T14:50:58.813363Z"
    }
   },
   "cell_type": "code",
   "source": [
    "import sys\n",
    "print(sys.version)"
   ],
   "id": "c320486b694e367d",
   "outputs": [
    {
     "name": "stdout",
     "output_type": "stream",
     "text": [
      "3.12.3 (tags/v3.12.3:f6650f9, Apr  9 2024, 14:05:25) [MSC v.1938 64 bit (AMD64)]\n"
     ]
    }
   ],
   "execution_count": 3
  },
  {
   "metadata": {
    "ExecuteTime": {
     "end_time": "2024-09-15T15:22:58.885632Z",
     "start_time": "2024-09-15T15:22:56.568618Z"
    }
   },
   "cell_type": "code",
   "source": [
    "def load_and_preprocess_image(image_path):\n",
    "  \"\"\"Tải ảnh, resize và chuẩn hóa.\"\"\"\n",
    "  img = image.load_img(image_path, target_size=(224, 224))  # Resize ảnh\n",
    "  img_array = image.img_to_array(img)  # Chuyển ảnh thành mảng numpy\n",
    "  img_array = np.expand_dims(img_array, axis=0)  # Thêm chiều batch\n",
    "  img_array /= 255.  # Chuẩn hóa giá trị pixel về [0, 1]\n",
    "  return img_array\n",
    "\n",
    "image_path = 'D:/Code/PBL4/Server_Backend_API/wwwroot/Images/reduce-paper-waste.jpg'  # Thay đổi đường dẫn nếu cần\n",
    "\n",
    "# Tải và tiền xử lý ảnh\n",
    "img_test = load_and_preprocess_image(image_path)\n",
    "\n",
    "# Đường dẫn đến file .h5 của model\n",
    "model_path = 'D:/Code/PBL4/Server_Backend_API/GarbageDetection/model.h5' # Thay đổi đường dẫn này\n",
    "\n",
    "# Load model từ file .h5\n",
    "myModel = load_model(model_path)\n",
    "\n",
    "# Dự đoán kết quả\n",
    "predictions = myModel.predict(img_test)\n",
    "\n",
    "# Lấy nhãn dự đoán\n",
    "predicted_class = np.argmax(predictions)\n",
    "print(predicted_class)\n",
    "\n",
    "# Lấy danh sách các lớp (nếu cần)\n",
    "class_names = ['CardBoard','glass','metal','paper', 'plastic', 'trash']\n",
    "\n",
    "# In ra kết quả\n",
    "print(\"Kết quả dự đoán:\", class_names[predicted_class])\n",
    "print(\"Xác suất:\", predictions[0])"
   ],
   "id": "acde7d15fa99caf3",
   "outputs": [
    {
     "name": "stderr",
     "output_type": "stream",
     "text": [
      "WARNING:absl:Compiled the loaded model, but the compiled metrics have yet to be built. `model.compile_metrics` will be empty until you train or evaluate the model.\n",
      "WARNING:absl:Error in loading the saved optimizer state. As a result, your model is starting with a freshly initialized optimizer.\n"
     ]
    },
    {
     "name": "stdout",
     "output_type": "stream",
     "text": [
      "\u001B[1m1/1\u001B[0m \u001B[32m━━━━━━━━━━━━━━━━━━━━\u001B[0m\u001B[37m\u001B[0m \u001B[1m2s\u001B[0m 2s/step\n",
      "2\n",
      "Kết quả dự đoán: metal\n",
      "Xác suất: [0.07740557 0.06021496 0.7688863  0.01128463 0.00682722 0.07538132]\n"
     ]
    }
   ],
   "execution_count": 13
  }
 ],
 "metadata": {
  "kernelspec": {
   "display_name": "Python 3",
   "language": "python",
   "name": "python3"
  },
  "language_info": {
   "codemirror_mode": {
    "name": "ipython",
    "version": 2
   },
   "file_extension": ".py",
   "mimetype": "text/x-python",
   "name": "python",
   "nbconvert_exporter": "python",
   "pygments_lexer": "ipython2",
   "version": "2.7.6"
  }
 },
 "nbformat": 4,
 "nbformat_minor": 5
}
